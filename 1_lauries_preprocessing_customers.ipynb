{
 "cells": [
  {
   "cell_type": "markdown",
   "id": "a7fb41af-421f-4c4e-bf16-b0ed52380dcd",
   "metadata": {},
   "source": [
    "# 1. Laurie's Books Customer Segmentation Analysis Preprocessing\n",
    "Here we analyze and clean the raw transactions data."
   ]
  },
  {
   "cell_type": "code",
   "execution_count": 1,
   "id": "44ba651b-62ed-43cc-8e99-d4dd0096518f",
   "metadata": {},
   "outputs": [],
   "source": [
    "import numpy as np\n",
    "import pandas as pd"
   ]
  },
  {
   "cell_type": "code",
   "execution_count": 2,
   "id": "ad0a33ba-ed97-46f6-98a0-961d6c09cb3b",
   "metadata": {},
   "outputs": [],
   "source": [
    "sales = pd.read_csv('20240301SalesDetail.csv')"
   ]
  },
  {
   "cell_type": "code",
   "execution_count": 3,
   "id": "86714547-373b-4684-a125-da1e7a8ac7a6",
   "metadata": {},
   "outputs": [
    {
     "name": "stdout",
     "output_type": "stream",
     "text": [
      "<class 'pandas.core.frame.DataFrame'>\n",
      "RangeIndex: 6117 entries, 0 to 6116\n",
      "Data columns (total 30 columns):\n",
      " #   Column         Non-Null Count  Dtype  \n",
      "---  ------         --------------  -----  \n",
      " 0   Date           6117 non-null   object \n",
      " 1   Time           6117 non-null   object \n",
      " 2   Age            6117 non-null   object \n",
      " 3   ISBN           6117 non-null   object \n",
      " 4   Title          6117 non-null   object \n",
      " 5   Authors        5755 non-null   object \n",
      " 6   Line Type      6117 non-null   object \n",
      " 7   Sale/Order ID  6117 non-null   int64  \n",
      " 8   Condition      6101 non-null   object \n",
      " 9   Section        6092 non-null   object \n",
      " 10  Location       6101 non-null   object \n",
      " 11  Binding        6019 non-null   object \n",
      " 12  Publisher      5844 non-null   object \n",
      " 13  Source         3026 non-null   object \n",
      " 14  Event          0 non-null      float64\n",
      " 15  Quantity       6117 non-null   int64  \n",
      " 16  Unit           6117 non-null   object \n",
      " 17  Credit Used    6117 non-null   object \n",
      " 18  Discount       6117 non-null   object \n",
      " 19  Extended       6117 non-null   object \n",
      " 20  Cost           6117 non-null   object \n",
      " 21  Credit         6117 non-null   object \n",
      " 22  Cash           6117 non-null   object \n",
      " 23  Store Rem.     6117 non-null   int64  \n",
      " 24  Chain Rem.     6117 non-null   int64  \n",
      " 25  On Order       6117 non-null   int64  \n",
      " 26  Sale Type      6117 non-null   object \n",
      " 27  Register       6117 non-null   object \n",
      " 28  Barcode        5701 non-null   float64\n",
      " 29  Customer       5985 non-null   object \n",
      "dtypes: float64(2), int64(5), object(23)\n",
      "memory usage: 1.4+ MB\n"
     ]
    }
   ],
   "source": [
    "sales.info()"
   ]
  },
  {
   "cell_type": "markdown",
   "id": "d58504f2-a344-4b74-a7be-4c7ab95e0ef5",
   "metadata": {},
   "source": [
    "We see that many columns are encoded as strings including the date. PII customer names are in the `Customer` column. The price of the item is in `Unit`. There are no unique customer names but the unique order ID is in the `Sale/Order ID` column. "
   ]
  },
  {
   "cell_type": "markdown",
   "id": "b2828e1b-0a41-4cdd-adb0-1a27de194e15",
   "metadata": {},
   "source": [
    "### Check values of various columns"
   ]
  },
  {
   "cell_type": "code",
   "execution_count": 4,
   "id": "1ca041a5-8334-45df-9e3e-3a98b87515e6",
   "metadata": {},
   "outputs": [
    {
     "data": {
      "text/plain": [
       "Customer\n",
       "no  account    198\n",
       "Name: count, dtype: int64"
      ]
     },
     "execution_count": 4,
     "metadata": {},
     "output_type": "execute_result"
    }
   ],
   "source": [
    "sales.Customer.value_counts().head(1)"
   ]
  },
  {
   "cell_type": "markdown",
   "id": "a1a8e7a0-91b8-4d12-845c-2f3535df4958",
   "metadata": {},
   "source": [
    "It looks like we need to clean out \"no  account\" and other non-name values."
   ]
  },
  {
   "cell_type": "code",
   "execution_count": 5,
   "id": "4aca1571-e63d-410b-b290-5ea66701135d",
   "metadata": {},
   "outputs": [
    {
     "data": {
      "text/html": [
       "<div>\n",
       "<style scoped>\n",
       "    .dataframe tbody tr th:only-of-type {\n",
       "        vertical-align: middle;\n",
       "    }\n",
       "\n",
       "    .dataframe tbody tr th {\n",
       "        vertical-align: top;\n",
       "    }\n",
       "\n",
       "    .dataframe thead th {\n",
       "        text-align: right;\n",
       "    }\n",
       "</style>\n",
       "<table border=\"1\" class=\"dataframe\">\n",
       "  <thead>\n",
       "    <tr style=\"text-align: right;\">\n",
       "      <th></th>\n",
       "      <th>Sale/Order ID</th>\n",
       "      <th>Event</th>\n",
       "      <th>Quantity</th>\n",
       "      <th>Store Rem.</th>\n",
       "      <th>Chain Rem.</th>\n",
       "      <th>On Order</th>\n",
       "      <th>Barcode</th>\n",
       "    </tr>\n",
       "  </thead>\n",
       "  <tbody>\n",
       "    <tr>\n",
       "      <th>count</th>\n",
       "      <td>6117.000000</td>\n",
       "      <td>0.0</td>\n",
       "      <td>6117.000000</td>\n",
       "      <td>6117.000000</td>\n",
       "      <td>6117.000000</td>\n",
       "      <td>6117.0</td>\n",
       "      <td>5.701000e+03</td>\n",
       "    </tr>\n",
       "    <tr>\n",
       "      <th>mean</th>\n",
       "      <td>11004.231976</td>\n",
       "      <td>NaN</td>\n",
       "      <td>1.027628</td>\n",
       "      <td>-1.775707</td>\n",
       "      <td>-1.775707</td>\n",
       "      <td>0.0</td>\n",
       "      <td>9.789910e+12</td>\n",
       "    </tr>\n",
       "    <tr>\n",
       "      <th>std</th>\n",
       "      <td>547.554823</td>\n",
       "      <td>NaN</td>\n",
       "      <td>0.494630</td>\n",
       "      <td>17.885391</td>\n",
       "      <td>17.885391</td>\n",
       "      <td>0.0</td>\n",
       "      <td>4.972033e+04</td>\n",
       "    </tr>\n",
       "    <tr>\n",
       "      <th>min</th>\n",
       "      <td>10005.000000</td>\n",
       "      <td>NaN</td>\n",
       "      <td>-1.000000</td>\n",
       "      <td>-121.000000</td>\n",
       "      <td>-121.000000</td>\n",
       "      <td>0.0</td>\n",
       "      <td>9.789910e+12</td>\n",
       "    </tr>\n",
       "    <tr>\n",
       "      <th>25%</th>\n",
       "      <td>10546.000000</td>\n",
       "      <td>NaN</td>\n",
       "      <td>1.000000</td>\n",
       "      <td>-1.000000</td>\n",
       "      <td>-1.000000</td>\n",
       "      <td>0.0</td>\n",
       "      <td>9.789910e+12</td>\n",
       "    </tr>\n",
       "    <tr>\n",
       "      <th>50%</th>\n",
       "      <td>11012.000000</td>\n",
       "      <td>NaN</td>\n",
       "      <td>1.000000</td>\n",
       "      <td>0.000000</td>\n",
       "      <td>0.000000</td>\n",
       "      <td>0.0</td>\n",
       "      <td>9.789910e+12</td>\n",
       "    </tr>\n",
       "    <tr>\n",
       "      <th>75%</th>\n",
       "      <td>11472.000000</td>\n",
       "      <td>NaN</td>\n",
       "      <td>1.000000</td>\n",
       "      <td>1.000000</td>\n",
       "      <td>1.000000</td>\n",
       "      <td>0.0</td>\n",
       "      <td>9.789910e+12</td>\n",
       "    </tr>\n",
       "    <tr>\n",
       "      <th>max</th>\n",
       "      <td>11938.000000</td>\n",
       "      <td>NaN</td>\n",
       "      <td>28.000000</td>\n",
       "      <td>93.000000</td>\n",
       "      <td>93.000000</td>\n",
       "      <td>0.0</td>\n",
       "      <td>9.789910e+12</td>\n",
       "    </tr>\n",
       "  </tbody>\n",
       "</table>\n",
       "</div>"
      ],
      "text/plain": [
       "       Sale/Order ID  Event     Quantity   Store Rem.   Chain Rem.  On Order  \\\n",
       "count    6117.000000    0.0  6117.000000  6117.000000  6117.000000    6117.0   \n",
       "mean    11004.231976    NaN     1.027628    -1.775707    -1.775707       0.0   \n",
       "std       547.554823    NaN     0.494630    17.885391    17.885391       0.0   \n",
       "min     10005.000000    NaN    -1.000000  -121.000000  -121.000000       0.0   \n",
       "25%     10546.000000    NaN     1.000000    -1.000000    -1.000000       0.0   \n",
       "50%     11012.000000    NaN     1.000000     0.000000     0.000000       0.0   \n",
       "75%     11472.000000    NaN     1.000000     1.000000     1.000000       0.0   \n",
       "max     11938.000000    NaN    28.000000    93.000000    93.000000       0.0   \n",
       "\n",
       "            Barcode  \n",
       "count  5.701000e+03  \n",
       "mean   9.789910e+12  \n",
       "std    4.972033e+04  \n",
       "min    9.789910e+12  \n",
       "25%    9.789910e+12  \n",
       "50%    9.789910e+12  \n",
       "75%    9.789910e+12  \n",
       "max    9.789910e+12  "
      ]
     },
     "execution_count": 5,
     "metadata": {},
     "output_type": "execute_result"
    }
   ],
   "source": [
    "sales.describe()"
   ]
  },
  {
   "cell_type": "markdown",
   "id": "3288449e-829d-42b3-b2b4-95224345e12a",
   "metadata": {},
   "source": [
    "We need to look at that 28 quantity order as well as other quantities > 1. After doing that, it appears that we only need to remove orders from Section \"Bookmarks\". "
   ]
  },
  {
   "cell_type": "code",
   "execution_count": 6,
   "id": "098ae229-a165-4b0c-9d4f-e4cd7000f386",
   "metadata": {},
   "outputs": [],
   "source": [
    "# Make a dataframe of unique names dropping na values.\n",
    "customers_df = pd.DataFrame(sales.Customer.dropna().unique(), columns=['name'])"
   ]
  },
  {
   "cell_type": "code",
   "execution_count": 7,
   "id": "b7b737ca-9bcb-496d-ac60-fc12b9312d6d",
   "metadata": {},
   "outputs": [
    {
     "data": {
      "text/plain": [
       "891"
      ]
     },
     "execution_count": 7,
     "metadata": {},
     "output_type": "execute_result"
    }
   ],
   "source": [
    "len(customers_df)"
   ]
  },
  {
   "cell_type": "code",
   "execution_count": 8,
   "id": "6330f65a-d70a-49c1-bcc6-0d56fa2e3636",
   "metadata": {},
   "outputs": [],
   "source": [
    "# Remove names that have 'abc' or 'account' in them. \n",
    "customers = customers_df[~customers_df.name.str.contains('abc|account')]"
   ]
  },
  {
   "cell_type": "code",
   "execution_count": 9,
   "id": "bf84ab24-00b2-496b-9303-fb04ffc7a92e",
   "metadata": {},
   "outputs": [
    {
     "data": {
      "text/plain": [
       "889"
      ]
     },
     "execution_count": 9,
     "metadata": {},
     "output_type": "execute_result"
    }
   ],
   "source": [
    "len(customers)"
   ]
  },
  {
   "cell_type": "markdown",
   "id": "e352d1ae-afd7-418c-857a-1d42adca0784",
   "metadata": {},
   "source": [
    "### Anonymize the names and save them as a separate key file"
   ]
  },
  {
   "cell_type": "code",
   "execution_count": 10,
   "id": "85a02ce8-73f5-4f28-9609-2a1b7b4ba4b7",
   "metadata": {},
   "outputs": [],
   "source": [
    "from faker import Faker\n",
    "fake = Faker()\n",
    "# The ean function can be set to 8 or 16 characters. The unique function ensures we avoid duplicates.\n",
    "uid = [int(fake.unique.ean(length=8)) for i in range(len(customers))]"
   ]
  },
  {
   "cell_type": "code",
   "execution_count": 11,
   "id": "6a2e13b6-e9c3-4cd1-b3de-245fba6b7fb8",
   "metadata": {},
   "outputs": [
    {
     "data": {
      "text/plain": [
       "[90591877, 72569436, 86516143, 92523166, 13995799]"
      ]
     },
     "execution_count": 11,
     "metadata": {},
     "output_type": "execute_result"
    }
   ],
   "source": [
    "uid[:5]"
   ]
  },
  {
   "cell_type": "code",
   "execution_count": 12,
   "id": "2d6a627d-495f-45c7-b6c1-e3c94b82e3a2",
   "metadata": {},
   "outputs": [],
   "source": [
    "customers_key = customers.assign(uid=uid)"
   ]
  },
  {
   "cell_type": "code",
   "execution_count": 13,
   "id": "bb7eaf41-8c3e-4ec0-8063-03c45a7a603c",
   "metadata": {},
   "outputs": [],
   "source": [
    "customers_key.to_csv('customers_key.csv', index=False)"
   ]
  },
  {
   "cell_type": "markdown",
   "id": "12adf041-a8a9-4abf-88f4-9ded1b12a5fa",
   "metadata": {},
   "source": [
    "### Clean the sales data\n",
    "Drop NAs and add uids. Keep genres and authors for future product mix analysis."
   ]
  },
  {
   "cell_type": "code",
   "execution_count": 14,
   "id": "2d7e4b69-d663-4200-8c2b-83ca0ec41467",
   "metadata": {},
   "outputs": [],
   "source": [
    "# Add the uids to the rest of the data\n",
    "transactions_raw = pd.merge(sales, customers_key, how='inner', left_on='Customer', right_on='name')"
   ]
  },
  {
   "cell_type": "code",
   "execution_count": 15,
   "id": "11c81e7e-228e-45b7-babe-f48f797a4033",
   "metadata": {},
   "outputs": [],
   "source": [
    "# Create a base transaction DataFrame for cleaning\n",
    "t_base = transactions_raw[['uid', 'Sale/Order ID', 'Date', 'Quantity', 'Unit', 'Section', 'Authors']]"
   ]
  },
  {
   "cell_type": "code",
   "execution_count": 16,
   "id": "9a5e7322-1ab3-4a1d-862f-3401b815fafa",
   "metadata": {},
   "outputs": [
    {
     "data": {
      "text/html": [
       "<div>\n",
       "<style scoped>\n",
       "    .dataframe tbody tr th:only-of-type {\n",
       "        vertical-align: middle;\n",
       "    }\n",
       "\n",
       "    .dataframe tbody tr th {\n",
       "        vertical-align: top;\n",
       "    }\n",
       "\n",
       "    .dataframe thead th {\n",
       "        text-align: right;\n",
       "    }\n",
       "</style>\n",
       "<table border=\"1\" class=\"dataframe\">\n",
       "  <thead>\n",
       "    <tr style=\"text-align: right;\">\n",
       "      <th></th>\n",
       "      <th>uid</th>\n",
       "      <th>Sale/Order ID</th>\n",
       "      <th>Date</th>\n",
       "      <th>Quantity</th>\n",
       "      <th>Unit</th>\n",
       "      <th>Section</th>\n",
       "      <th>Authors</th>\n",
       "    </tr>\n",
       "  </thead>\n",
       "  <tbody>\n",
       "    <tr>\n",
       "      <th>0</th>\n",
       "      <td>90591877</td>\n",
       "      <td>10005</td>\n",
       "      <td>2023-09-22</td>\n",
       "      <td>1</td>\n",
       "      <td>$5.00</td>\n",
       "      <td>American History</td>\n",
       "      <td>Sandford, John</td>\n",
       "    </tr>\n",
       "    <tr>\n",
       "      <th>1</th>\n",
       "      <td>90591877</td>\n",
       "      <td>10005</td>\n",
       "      <td>2023-09-22</td>\n",
       "      <td>1</td>\n",
       "      <td>$5.00</td>\n",
       "      <td>American History</td>\n",
       "      <td>Sandford, John</td>\n",
       "    </tr>\n",
       "    <tr>\n",
       "      <th>2</th>\n",
       "      <td>90591877</td>\n",
       "      <td>10005</td>\n",
       "      <td>2023-09-22</td>\n",
       "      <td>1</td>\n",
       "      <td>$5.00</td>\n",
       "      <td>American History</td>\n",
       "      <td>Sandford, John</td>\n",
       "    </tr>\n",
       "    <tr>\n",
       "      <th>3</th>\n",
       "      <td>90591877</td>\n",
       "      <td>10005</td>\n",
       "      <td>2023-09-22</td>\n",
       "      <td>1</td>\n",
       "      <td>$5.00</td>\n",
       "      <td>American History</td>\n",
       "      <td>Sandford, John</td>\n",
       "    </tr>\n",
       "    <tr>\n",
       "      <th>4</th>\n",
       "      <td>90591877</td>\n",
       "      <td>10005</td>\n",
       "      <td>2023-09-22</td>\n",
       "      <td>1</td>\n",
       "      <td>$5.00</td>\n",
       "      <td>American History</td>\n",
       "      <td>Sandford, John</td>\n",
       "    </tr>\n",
       "  </tbody>\n",
       "</table>\n",
       "</div>"
      ],
      "text/plain": [
       "        uid  Sale/Order ID        Date  Quantity   Unit           Section  \\\n",
       "0  90591877          10005  2023-09-22         1  $5.00  American History   \n",
       "1  90591877          10005  2023-09-22         1  $5.00  American History   \n",
       "2  90591877          10005  2023-09-22         1  $5.00  American History   \n",
       "3  90591877          10005  2023-09-22         1  $5.00  American History   \n",
       "4  90591877          10005  2023-09-22         1  $5.00  American History   \n",
       "\n",
       "          Authors  \n",
       "0  Sandford, John  \n",
       "1  Sandford, John  \n",
       "2  Sandford, John  \n",
       "3  Sandford, John  \n",
       "4  Sandford, John  "
      ]
     },
     "execution_count": 16,
     "metadata": {},
     "output_type": "execute_result"
    }
   ],
   "source": [
    "t_base.head()"
   ]
  },
  {
   "cell_type": "code",
   "execution_count": 17,
   "id": "48dd46d3-a3c7-4792-be89-c4a6628a38a2",
   "metadata": {},
   "outputs": [],
   "source": [
    "t_renamed = t_base.rename(columns= {'Sale/Order ID': 'order_no', \n",
    "                                    'Date':'date',\n",
    "                                    'Quantity':'qty',\n",
    "                                    'Unit':'price',\n",
    "                                    'Section':'genre',\n",
    "                                    'Authors':'author'})"
   ]
  },
  {
   "cell_type": "code",
   "execution_count": 18,
   "id": "50f6da0f-d510-4d7a-b17b-624f4f7281e1",
   "metadata": {},
   "outputs": [
    {
     "name": "stdout",
     "output_type": "stream",
     "text": [
      "<class 'pandas.core.frame.DataFrame'>\n",
      "RangeIndex: 5708 entries, 0 to 5707\n",
      "Data columns (total 7 columns):\n",
      " #   Column    Non-Null Count  Dtype \n",
      "---  ------    --------------  ----- \n",
      " 0   uid       5708 non-null   int64 \n",
      " 1   order_no  5708 non-null   int64 \n",
      " 2   date      5708 non-null   object\n",
      " 3   qty       5708 non-null   int64 \n",
      " 4   price     5708 non-null   object\n",
      " 5   genre     5689 non-null   object\n",
      " 6   author    5402 non-null   object\n",
      "dtypes: int64(3), object(4)\n",
      "memory usage: 312.3+ KB\n"
     ]
    }
   ],
   "source": [
    "t_renamed.info()"
   ]
  },
  {
   "cell_type": "code",
   "execution_count": 19,
   "id": "8bd82aa8-7ae0-4f9d-addf-ee7e490f429d",
   "metadata": {},
   "outputs": [],
   "source": [
    "# Convert the date to a date data type\n",
    "t_renamed.date = pd.to_datetime(t_renamed.date)"
   ]
  },
  {
   "cell_type": "code",
   "execution_count": 20,
   "id": "30e5cf5b-759a-4644-99f8-a72908375312",
   "metadata": {},
   "outputs": [],
   "source": [
    "# Convert the price by first stripping out the non-number characters\n",
    "t_renamed.price = t_renamed.price.map(lambda x: float(x.replace('$', '').replace('(', '').replace(')', '')))"
   ]
  },
  {
   "cell_type": "code",
   "execution_count": 21,
   "id": "d3febae4-7316-41de-a692-7b4f46ef135e",
   "metadata": {},
   "outputs": [],
   "source": [
    "t_renamed.to_csv('transactions_cleaned.csv', index=False)"
   ]
  },
  {
   "cell_type": "code",
   "execution_count": null,
   "id": "62bca763-7245-4624-8e86-004e8caa31ab",
   "metadata": {},
   "outputs": [],
   "source": []
  }
 ],
 "metadata": {
  "kernelspec": {
   "display_name": "Python 3 (ipykernel)",
   "language": "python",
   "name": "python3"
  },
  "language_info": {
   "codemirror_mode": {
    "name": "ipython",
    "version": 3
   },
   "file_extension": ".py",
   "mimetype": "text/x-python",
   "name": "python",
   "nbconvert_exporter": "python",
   "pygments_lexer": "ipython3",
   "version": "3.12.2"
  }
 },
 "nbformat": 4,
 "nbformat_minor": 5
}

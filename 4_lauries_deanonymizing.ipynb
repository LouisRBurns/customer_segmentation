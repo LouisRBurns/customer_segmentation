{
 "cells": [
  {
   "cell_type": "markdown",
   "id": "a6e10604-8dfd-4a45-95e0-2e9b3491a32f",
   "metadata": {},
   "source": [
    "# Laurie's Books Customer Deanonymizing\n",
    "Here we join all the DataFrames developed thus far and export a sorted csv. This notebook will not run without the key csv that contains the customers names. "
   ]
  },
  {
   "cell_type": "code",
   "execution_count": 1,
   "id": "f5f9f52c-6ba8-4092-9d7d-6123315033c8",
   "metadata": {},
   "outputs": [],
   "source": [
    "import numpy as np\n",
    "import pandas as pd\n",
    "import functools as ft"
   ]
  },
  {
   "cell_type": "code",
   "execution_count": 2,
   "id": "dad70442-adad-4b37-bc64-3741929ef168",
   "metadata": {},
   "outputs": [],
   "source": [
    "df = pd.read_csv('customers_for_clustering.csv')\n",
    "key = pd.read_csv('customers_key.csv')\n",
    "segment = pd.read_csv('lauries_general_segments.csv')\n",
    "cluster = pd.read_csv('customer_clusters.csv')"
   ]
  },
  {
   "cell_type": "code",
   "execution_count": 3,
   "id": "a6f683b7-d2ee-44d8-a0aa-431a3ee259b2",
   "metadata": {},
   "outputs": [
    {
     "name": "stdout",
     "output_type": "stream",
     "text": [
      "<class 'pandas.core.frame.DataFrame'>\n",
      "RangeIndex: 889 entries, 0 to 888\n",
      "Data columns (total 5 columns):\n",
      " #   Column           Non-Null Count  Dtype  \n",
      "---  ------           --------------  -----  \n",
      " 0   uid              889 non-null    int64  \n",
      " 1   days_since_last  889 non-null    float64\n",
      " 2   transactions     889 non-null    int64  \n",
      " 3   total_spending   889 non-null    float64\n",
      " 4   tenure           889 non-null    float64\n",
      "dtypes: float64(3), int64(2)\n",
      "memory usage: 34.9 KB\n"
     ]
    }
   ],
   "source": [
    "df.info()"
   ]
  },
  {
   "cell_type": "code",
   "execution_count": 4,
   "id": "51ab4401-89ea-42c2-9d2b-84e2677be628",
   "metadata": {},
   "outputs": [
    {
     "name": "stdout",
     "output_type": "stream",
     "text": [
      "<class 'pandas.core.frame.DataFrame'>\n",
      "RangeIndex: 889 entries, 0 to 888\n",
      "Data columns (total 2 columns):\n",
      " #   Column  Non-Null Count  Dtype \n",
      "---  ------  --------------  ----- \n",
      " 0   name    889 non-null    object\n",
      " 1   uid     889 non-null    int64 \n",
      "dtypes: int64(1), object(1)\n",
      "memory usage: 14.0+ KB\n"
     ]
    }
   ],
   "source": [
    "key.info()"
   ]
  },
  {
   "cell_type": "code",
   "execution_count": 5,
   "id": "3c39f23e-f67f-478f-b832-4c6fc9ca3f08",
   "metadata": {},
   "outputs": [
    {
     "name": "stdout",
     "output_type": "stream",
     "text": [
      "<class 'pandas.core.frame.DataFrame'>\n",
      "RangeIndex: 889 entries, 0 to 888\n",
      "Data columns (total 2 columns):\n",
      " #   Column           Non-Null Count  Dtype \n",
      "---  ------           --------------  ----- \n",
      " 0   uid              889 non-null    int64 \n",
      " 1   general_segment  889 non-null    object\n",
      "dtypes: int64(1), object(1)\n",
      "memory usage: 14.0+ KB\n"
     ]
    }
   ],
   "source": [
    "segment.info()"
   ]
  },
  {
   "cell_type": "code",
   "execution_count": 6,
   "id": "2816f473-a727-4c7c-aeb1-1d7e5b1d2241",
   "metadata": {},
   "outputs": [
    {
     "name": "stdout",
     "output_type": "stream",
     "text": [
      "<class 'pandas.core.frame.DataFrame'>\n",
      "RangeIndex: 889 entries, 0 to 888\n",
      "Data columns (total 2 columns):\n",
      " #   Column   Non-Null Count  Dtype\n",
      "---  ------   --------------  -----\n",
      " 0   uid      889 non-null    int64\n",
      " 1   cluster  889 non-null    int64\n",
      "dtypes: int64(2)\n",
      "memory usage: 14.0 KB\n"
     ]
    }
   ],
   "source": [
    "cluster.info()"
   ]
  },
  {
   "cell_type": "code",
   "execution_count": 7,
   "id": "031e95ee-abb6-415a-a5a3-18e054bf47fb",
   "metadata": {},
   "outputs": [],
   "source": [
    "# Join all the data together \n",
    "dfs = [key, df, segment, cluster]\n",
    "customers = ft.reduce(lambda left, right: pd.merge(left, right, on='uid'), dfs)"
   ]
  },
  {
   "cell_type": "code",
   "execution_count": 8,
   "id": "07fc2a38-f0e3-44c2-8917-2cec7102410c",
   "metadata": {},
   "outputs": [],
   "source": [
    "# Export a csv sorted on clusters and total spending\n",
    "customers.sort_values(['cluster', 'total_spending'], ascending=[True, False]).to_csv('customer_segments_final.csv', index=False)"
   ]
  },
  {
   "cell_type": "code",
   "execution_count": null,
   "id": "a3261f4b-3e16-415b-ab47-db20bfb42d42",
   "metadata": {},
   "outputs": [],
   "source": []
  }
 ],
 "metadata": {
  "kernelspec": {
   "display_name": "Python 3 (ipykernel)",
   "language": "python",
   "name": "python3"
  },
  "language_info": {
   "codemirror_mode": {
    "name": "ipython",
    "version": 3
   },
   "file_extension": ".py",
   "mimetype": "text/x-python",
   "name": "python",
   "nbconvert_exporter": "python",
   "pygments_lexer": "ipython3",
   "version": "3.12.2"
  }
 },
 "nbformat": 4,
 "nbformat_minor": 5
}

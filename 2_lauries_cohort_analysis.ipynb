{
 "cells": [
  {
   "cell_type": "markdown",
   "id": "b51d8695-df32-40c5-aa76-6a2cc2b6d6e1",
   "metadata": {},
   "source": [
    "### 2. Laurie's Books Customer Cohort Analysis\n",
    "Here we take cleaned transaction data and develop cohorts based on recency, frequency, monetary value, and tenure."
   ]
  },
  {
   "cell_type": "code",
   "execution_count": 1,
   "id": "a4afe2c7-baad-4fbb-9004-0de032639f19",
   "metadata": {},
   "outputs": [],
   "source": [
    "import numpy as np\n",
    "import pandas as pd\n",
    "import matplotlib.pyplot as plt\n",
    "import seaborn as sns\n",
    "from datetime import datetime, date"
   ]
  },
  {
   "cell_type": "code",
   "execution_count": 2,
   "id": "6bc85119-587d-41b8-ba60-fa283a2affa1",
   "metadata": {},
   "outputs": [],
   "source": [
    "df = pd.read_csv('transactions_cleaned.csv', parse_dates=['date'])"
   ]
  },
  {
   "cell_type": "code",
   "execution_count": 3,
   "id": "e2f92bca-c8e1-4085-8f2a-77948602ab61",
   "metadata": {},
   "outputs": [
    {
     "data": {
      "text/html": [
       "<div>\n",
       "<style scoped>\n",
       "    .dataframe tbody tr th:only-of-type {\n",
       "        vertical-align: middle;\n",
       "    }\n",
       "\n",
       "    .dataframe tbody tr th {\n",
       "        vertical-align: top;\n",
       "    }\n",
       "\n",
       "    .dataframe thead th {\n",
       "        text-align: right;\n",
       "    }\n",
       "</style>\n",
       "<table border=\"1\" class=\"dataframe\">\n",
       "  <thead>\n",
       "    <tr style=\"text-align: right;\">\n",
       "      <th></th>\n",
       "      <th>uid</th>\n",
       "      <th>order_no</th>\n",
       "      <th>date</th>\n",
       "      <th>qty</th>\n",
       "      <th>price</th>\n",
       "      <th>genre</th>\n",
       "      <th>author</th>\n",
       "    </tr>\n",
       "  </thead>\n",
       "  <tbody>\n",
       "    <tr>\n",
       "      <th>0</th>\n",
       "      <td>6390785</td>\n",
       "      <td>10005</td>\n",
       "      <td>2023-09-22</td>\n",
       "      <td>1</td>\n",
       "      <td>5.0</td>\n",
       "      <td>American History</td>\n",
       "      <td>Sandford, John</td>\n",
       "    </tr>\n",
       "    <tr>\n",
       "      <th>1</th>\n",
       "      <td>6390785</td>\n",
       "      <td>10005</td>\n",
       "      <td>2023-09-22</td>\n",
       "      <td>1</td>\n",
       "      <td>5.0</td>\n",
       "      <td>American History</td>\n",
       "      <td>Sandford, John</td>\n",
       "    </tr>\n",
       "    <tr>\n",
       "      <th>2</th>\n",
       "      <td>6390785</td>\n",
       "      <td>10005</td>\n",
       "      <td>2023-09-22</td>\n",
       "      <td>1</td>\n",
       "      <td>5.0</td>\n",
       "      <td>American History</td>\n",
       "      <td>Sandford, John</td>\n",
       "    </tr>\n",
       "    <tr>\n",
       "      <th>3</th>\n",
       "      <td>6390785</td>\n",
       "      <td>10005</td>\n",
       "      <td>2023-09-22</td>\n",
       "      <td>1</td>\n",
       "      <td>5.0</td>\n",
       "      <td>American History</td>\n",
       "      <td>Sandford, John</td>\n",
       "    </tr>\n",
       "    <tr>\n",
       "      <th>4</th>\n",
       "      <td>6390785</td>\n",
       "      <td>10005</td>\n",
       "      <td>2023-09-22</td>\n",
       "      <td>1</td>\n",
       "      <td>5.0</td>\n",
       "      <td>American History</td>\n",
       "      <td>Sandford, John</td>\n",
       "    </tr>\n",
       "  </tbody>\n",
       "</table>\n",
       "</div>"
      ],
      "text/plain": [
       "       uid  order_no       date  qty  price             genre          author\n",
       "0  6390785     10005 2023-09-22    1    5.0  American History  Sandford, John\n",
       "1  6390785     10005 2023-09-22    1    5.0  American History  Sandford, John\n",
       "2  6390785     10005 2023-09-22    1    5.0  American History  Sandford, John\n",
       "3  6390785     10005 2023-09-22    1    5.0  American History  Sandford, John\n",
       "4  6390785     10005 2023-09-22    1    5.0  American History  Sandford, John"
      ]
     },
     "execution_count": 3,
     "metadata": {},
     "output_type": "execute_result"
    }
   ],
   "source": [
    "df.head()"
   ]
  },
  {
   "cell_type": "code",
   "execution_count": 4,
   "id": "5f90528f-0e7f-4e69-bdb9-cab3d041cab0",
   "metadata": {},
   "outputs": [
    {
     "name": "stdout",
     "output_type": "stream",
     "text": [
      "<class 'pandas.core.frame.DataFrame'>\n",
      "RangeIndex: 5708 entries, 0 to 5707\n",
      "Data columns (total 7 columns):\n",
      " #   Column    Non-Null Count  Dtype         \n",
      "---  ------    --------------  -----         \n",
      " 0   uid       5708 non-null   int64         \n",
      " 1   order_no  5708 non-null   int64         \n",
      " 2   date      5708 non-null   datetime64[ns]\n",
      " 3   qty       5708 non-null   int64         \n",
      " 4   price     5708 non-null   float64       \n",
      " 5   genre     5689 non-null   object        \n",
      " 6   author    5402 non-null   object        \n",
      "dtypes: datetime64[ns](1), float64(1), int64(3), object(2)\n",
      "memory usage: 312.3+ KB\n"
     ]
    }
   ],
   "source": [
    "df.info()"
   ]
  },
  {
   "cell_type": "markdown",
   "id": "6a0c0675-407b-4c05-8cf5-a5740597a983",
   "metadata": {},
   "source": [
    "Make helper functions"
   ]
  },
  {
   "cell_type": "code",
   "execution_count": 5,
   "id": "442db841-d98e-46a5-b346-1f47f455b73e",
   "metadata": {},
   "outputs": [],
   "source": [
    "def get_month(x):\n",
    "    return datetime(x.year, x.month, 1)\n",
    "\n",
    "def get_date_int(df, column):\n",
    "    return df[column].dt.year, df[column].dt.month, df[column].dt.day"
   ]
  },
  {
   "cell_type": "code",
   "execution_count": 6,
   "id": "3f1f864e-7607-469b-8d72-e1256af93390",
   "metadata": {},
   "outputs": [],
   "source": [
    "# Create a column with the invoice month\n",
    "df['inv_mo'] = df.date.apply(get_month)"
   ]
  },
  {
   "cell_type": "code",
   "execution_count": 7,
   "id": "7b64a9c1-ce8a-467e-b212-1f0e6eeea358",
   "metadata": {},
   "outputs": [
    {
     "data": {
      "text/plain": [
       "<DatetimeArray>\n",
       "['2023-09-01 00:00:00', '2023-10-01 00:00:00', '2023-11-01 00:00:00',\n",
       " '2023-12-01 00:00:00', '2024-01-01 00:00:00', '2024-02-01 00:00:00']\n",
       "Length: 6, dtype: datetime64[ns]"
      ]
     },
     "execution_count": 7,
     "metadata": {},
     "output_type": "execute_result"
    }
   ],
   "source": [
    "# Check whether all transactions were grouped into the available months\n",
    "df.inv_mo.unique()"
   ]
  },
  {
   "cell_type": "code",
   "execution_count": 8,
   "id": "d004cd4c-a217-4a24-961f-2bc120f4cc8a",
   "metadata": {},
   "outputs": [],
   "source": [
    "# Create a grouping to get the first month the customer made a purchase\n",
    "grouping = df.groupby('uid')['inv_mo']\n",
    "df['cohort_mo'] = grouping.transform('min')"
   ]
  },
  {
   "cell_type": "code",
   "execution_count": 9,
   "id": "0e43b2f1-9c3d-4a04-a48c-b9b4e28e8a16",
   "metadata": {},
   "outputs": [],
   "source": [
    "# Get the first and last purchase dates\n",
    "df['last_date'] = df.groupby('uid')['date'].transform('max')\n",
    "df['first_date'] = df.groupby('uid')['date'].transform('min')"
   ]
  },
  {
   "cell_type": "code",
   "execution_count": 10,
   "id": "11939fdd-b839-43b1-92ba-bdf65dfefdc8",
   "metadata": {},
   "outputs": [],
   "source": [
    "# Get the integers for date parts from the Invoice Month column\n",
    "invoice_year, invoice_month, invoice_day = get_date_int(df, 'inv_mo')\n",
    "\n",
    "# Get the integers for date parts from the Cohort Month column\n",
    "cohort_year, cohort_month, cohort_day = get_date_int(df, 'cohort_mo')\n",
    "\n",
    "# Get the integers for days from the date column\n",
    "join_day = df.date.dt.day"
   ]
  },
  {
   "cell_type": "code",
   "execution_count": 11,
   "id": "28ace148-f21c-42f4-92bb-b32a6dde6af3",
   "metadata": {},
   "outputs": [],
   "source": [
    "# Develop a cohort index from the difference\n",
    "years_diff = invoice_year - cohort_year\n",
    "months_diff = invoice_month - cohort_month\n",
    "\n",
    "# This represents the months of this purchase since their first purchase\n",
    "df['month_idx'] = years_diff * 12 + months_diff + 1\n",
    "\n",
    "# This represents the days of this purchase since their first purchase\n",
    "df['day_idx'] = years_diff * 365 + months_diff * 30 + join_day"
   ]
  },
  {
   "cell_type": "code",
   "execution_count": 12,
   "id": "b964fa3a-a225-46b3-8c82-8b34ddcb8be9",
   "metadata": {},
   "outputs": [
    {
     "data": {
      "text/html": [
       "<div>\n",
       "<style scoped>\n",
       "    .dataframe tbody tr th:only-of-type {\n",
       "        vertical-align: middle;\n",
       "    }\n",
       "\n",
       "    .dataframe tbody tr th {\n",
       "        vertical-align: top;\n",
       "    }\n",
       "\n",
       "    .dataframe thead th {\n",
       "        text-align: right;\n",
       "    }\n",
       "</style>\n",
       "<table border=\"1\" class=\"dataframe\">\n",
       "  <thead>\n",
       "    <tr style=\"text-align: right;\">\n",
       "      <th></th>\n",
       "      <th>uid</th>\n",
       "      <th>order_no</th>\n",
       "      <th>date</th>\n",
       "      <th>qty</th>\n",
       "      <th>price</th>\n",
       "      <th>genre</th>\n",
       "      <th>author</th>\n",
       "      <th>inv_mo</th>\n",
       "      <th>cohort_mo</th>\n",
       "      <th>last_date</th>\n",
       "      <th>first_date</th>\n",
       "      <th>month_idx</th>\n",
       "      <th>day_idx</th>\n",
       "    </tr>\n",
       "  </thead>\n",
       "  <tbody>\n",
       "    <tr>\n",
       "      <th>4634</th>\n",
       "      <td>99350956</td>\n",
       "      <td>11578</td>\n",
       "      <td>2024-02-05</td>\n",
       "      <td>1</td>\n",
       "      <td>5.0</td>\n",
       "      <td>Mystery</td>\n",
       "      <td>Woods, Stuart</td>\n",
       "      <td>2024-02-01</td>\n",
       "      <td>2023-11-01</td>\n",
       "      <td>2024-02-16</td>\n",
       "      <td>2023-11-03</td>\n",
       "      <td>4</td>\n",
       "      <td>100</td>\n",
       "    </tr>\n",
       "    <tr>\n",
       "      <th>2829</th>\n",
       "      <td>73000488</td>\n",
       "      <td>10962</td>\n",
       "      <td>2023-12-13</td>\n",
       "      <td>1</td>\n",
       "      <td>5.0</td>\n",
       "      <td>Mystery</td>\n",
       "      <td>Kellerman, Faye</td>\n",
       "      <td>2023-12-01</td>\n",
       "      <td>2023-10-01</td>\n",
       "      <td>2024-01-26</td>\n",
       "      <td>2023-10-07</td>\n",
       "      <td>3</td>\n",
       "      <td>73</td>\n",
       "    </tr>\n",
       "    <tr>\n",
       "      <th>4686</th>\n",
       "      <td>74435098</td>\n",
       "      <td>11593</td>\n",
       "      <td>2024-02-06</td>\n",
       "      <td>1</td>\n",
       "      <td>4.0</td>\n",
       "      <td>Mystery</td>\n",
       "      <td>Woods, Stuart</td>\n",
       "      <td>2024-02-01</td>\n",
       "      <td>2023-10-01</td>\n",
       "      <td>2024-02-21</td>\n",
       "      <td>2023-10-11</td>\n",
       "      <td>5</td>\n",
       "      <td>131</td>\n",
       "    </tr>\n",
       "    <tr>\n",
       "      <th>2839</th>\n",
       "      <td>25033823</td>\n",
       "      <td>10966</td>\n",
       "      <td>2023-12-14</td>\n",
       "      <td>1</td>\n",
       "      <td>3.0</td>\n",
       "      <td>Mystery</td>\n",
       "      <td>Whiddon, Karen</td>\n",
       "      <td>2023-12-01</td>\n",
       "      <td>2023-12-01</td>\n",
       "      <td>2023-12-14</td>\n",
       "      <td>2023-12-14</td>\n",
       "      <td>1</td>\n",
       "      <td>14</td>\n",
       "    </tr>\n",
       "    <tr>\n",
       "      <th>173</th>\n",
       "      <td>83918759</td>\n",
       "      <td>10090</td>\n",
       "      <td>2023-09-27</td>\n",
       "      <td>1</td>\n",
       "      <td>4.0</td>\n",
       "      <td>Westerns</td>\n",
       "      <td>West, Joseph A.,Compton, Ralph</td>\n",
       "      <td>2023-09-01</td>\n",
       "      <td>2023-09-01</td>\n",
       "      <td>2023-09-27</td>\n",
       "      <td>2023-09-27</td>\n",
       "      <td>1</td>\n",
       "      <td>27</td>\n",
       "    </tr>\n",
       "  </tbody>\n",
       "</table>\n",
       "</div>"
      ],
      "text/plain": [
       "           uid  order_no       date  qty  price     genre  \\\n",
       "4634  99350956     11578 2024-02-05    1    5.0   Mystery   \n",
       "2829  73000488     10962 2023-12-13    1    5.0   Mystery   \n",
       "4686  74435098     11593 2024-02-06    1    4.0   Mystery   \n",
       "2839  25033823     10966 2023-12-14    1    3.0   Mystery   \n",
       "173   83918759     10090 2023-09-27    1    4.0  Westerns   \n",
       "\n",
       "                              author     inv_mo  cohort_mo  last_date  \\\n",
       "4634                   Woods, Stuart 2024-02-01 2023-11-01 2024-02-16   \n",
       "2829                 Kellerman, Faye 2023-12-01 2023-10-01 2024-01-26   \n",
       "4686                   Woods, Stuart 2024-02-01 2023-10-01 2024-02-21   \n",
       "2839                  Whiddon, Karen 2023-12-01 2023-12-01 2023-12-14   \n",
       "173   West, Joseph A.,Compton, Ralph 2023-09-01 2023-09-01 2023-09-27   \n",
       "\n",
       "     first_date  month_idx  day_idx  \n",
       "4634 2023-11-03          4      100  \n",
       "2829 2023-10-07          3       73  \n",
       "4686 2023-10-11          5      131  \n",
       "2839 2023-12-14          1       14  \n",
       "173  2023-09-27          1       27  "
      ]
     },
     "execution_count": 12,
     "metadata": {},
     "output_type": "execute_result"
    }
   ],
   "source": [
    "df.sample(n=5)"
   ]
  },
  {
   "cell_type": "code",
   "execution_count": 13,
   "id": "c13eecbc-c2ad-4299-993a-17cea75bb6e4",
   "metadata": {},
   "outputs": [],
   "source": [
    "# Counting monthly customers\n",
    "grouping = df.groupby(['cohort_mo', 'month_idx'])\n",
    "cohort_data = grouping['uid'].apply(pd.Series.nunique).reset_index()\n",
    "cohort_counts = cohort_data.pivot(index='cohort_mo',\n",
    "                                  columns='month_idx',\n",
    "                                  values='uid')"
   ]
  },
  {
   "cell_type": "code",
   "execution_count": 14,
   "id": "d111412a-2e5a-4fb3-9fd6-f237d4b1591e",
   "metadata": {},
   "outputs": [
    {
     "data": {
      "text/html": [
       "<div>\n",
       "<style scoped>\n",
       "    .dataframe tbody tr th:only-of-type {\n",
       "        vertical-align: middle;\n",
       "    }\n",
       "\n",
       "    .dataframe tbody tr th {\n",
       "        vertical-align: top;\n",
       "    }\n",
       "\n",
       "    .dataframe thead th {\n",
       "        text-align: right;\n",
       "    }\n",
       "</style>\n",
       "<table border=\"1\" class=\"dataframe\">\n",
       "  <thead>\n",
       "    <tr style=\"text-align: right;\">\n",
       "      <th>month_idx</th>\n",
       "      <th>1</th>\n",
       "      <th>2</th>\n",
       "      <th>3</th>\n",
       "      <th>4</th>\n",
       "      <th>5</th>\n",
       "      <th>6</th>\n",
       "    </tr>\n",
       "    <tr>\n",
       "      <th>cohort_mo</th>\n",
       "      <th></th>\n",
       "      <th></th>\n",
       "      <th></th>\n",
       "      <th></th>\n",
       "      <th></th>\n",
       "      <th></th>\n",
       "    </tr>\n",
       "  </thead>\n",
       "  <tbody>\n",
       "    <tr>\n",
       "      <th>2023-09-01</th>\n",
       "      <td>85.0</td>\n",
       "      <td>25.0</td>\n",
       "      <td>26.0</td>\n",
       "      <td>17.0</td>\n",
       "      <td>26.0</td>\n",
       "      <td>15.0</td>\n",
       "    </tr>\n",
       "    <tr>\n",
       "      <th>2023-10-01</th>\n",
       "      <td>219.0</td>\n",
       "      <td>43.0</td>\n",
       "      <td>46.0</td>\n",
       "      <td>43.0</td>\n",
       "      <td>46.0</td>\n",
       "      <td>NaN</td>\n",
       "    </tr>\n",
       "    <tr>\n",
       "      <th>2023-11-01</th>\n",
       "      <td>164.0</td>\n",
       "      <td>23.0</td>\n",
       "      <td>23.0</td>\n",
       "      <td>33.0</td>\n",
       "      <td>NaN</td>\n",
       "      <td>NaN</td>\n",
       "    </tr>\n",
       "    <tr>\n",
       "      <th>2023-12-01</th>\n",
       "      <td>140.0</td>\n",
       "      <td>12.0</td>\n",
       "      <td>19.0</td>\n",
       "      <td>NaN</td>\n",
       "      <td>NaN</td>\n",
       "      <td>NaN</td>\n",
       "    </tr>\n",
       "    <tr>\n",
       "      <th>2024-01-01</th>\n",
       "      <td>131.0</td>\n",
       "      <td>20.0</td>\n",
       "      <td>NaN</td>\n",
       "      <td>NaN</td>\n",
       "      <td>NaN</td>\n",
       "      <td>NaN</td>\n",
       "    </tr>\n",
       "    <tr>\n",
       "      <th>2024-02-01</th>\n",
       "      <td>150.0</td>\n",
       "      <td>NaN</td>\n",
       "      <td>NaN</td>\n",
       "      <td>NaN</td>\n",
       "      <td>NaN</td>\n",
       "      <td>NaN</td>\n",
       "    </tr>\n",
       "  </tbody>\n",
       "</table>\n",
       "</div>"
      ],
      "text/plain": [
       "month_idx       1     2     3     4     5     6\n",
       "cohort_mo                                      \n",
       "2023-09-01   85.0  25.0  26.0  17.0  26.0  15.0\n",
       "2023-10-01  219.0  43.0  46.0  43.0  46.0   NaN\n",
       "2023-11-01  164.0  23.0  23.0  33.0   NaN   NaN\n",
       "2023-12-01  140.0  12.0  19.0   NaN   NaN   NaN\n",
       "2024-01-01  131.0  20.0   NaN   NaN   NaN   NaN\n",
       "2024-02-01  150.0   NaN   NaN   NaN   NaN   NaN"
      ]
     },
     "execution_count": 14,
     "metadata": {},
     "output_type": "execute_result"
    }
   ],
   "source": [
    "cohort_counts"
   ]
  },
  {
   "cell_type": "markdown",
   "id": "20bc2224-2e40-4888-8673-64bca661bc9c",
   "metadata": {},
   "source": [
    "### Develop cohort metrics"
   ]
  },
  {
   "cell_type": "code",
   "execution_count": 15,
   "id": "e8dcb7e3-1f55-477e-b142-d06011ab1d02",
   "metadata": {},
   "outputs": [],
   "source": [
    "# Create a retention matrix\n",
    "cohort_sizes = cohort_counts.iloc[:, 0]\n",
    "retention = cohort_counts.divide(cohort_sizes, axis=0)"
   ]
  },
  {
   "cell_type": "code",
   "execution_count": 16,
   "id": "f7521476-6f4a-49bb-bf7c-779b9d8f6b12",
   "metadata": {},
   "outputs": [
    {
     "data": {
      "text/html": [
       "<div>\n",
       "<style scoped>\n",
       "    .dataframe tbody tr th:only-of-type {\n",
       "        vertical-align: middle;\n",
       "    }\n",
       "\n",
       "    .dataframe tbody tr th {\n",
       "        vertical-align: top;\n",
       "    }\n",
       "\n",
       "    .dataframe thead th {\n",
       "        text-align: right;\n",
       "    }\n",
       "</style>\n",
       "<table border=\"1\" class=\"dataframe\">\n",
       "  <thead>\n",
       "    <tr style=\"text-align: right;\">\n",
       "      <th>month_idx</th>\n",
       "      <th>1</th>\n",
       "      <th>2</th>\n",
       "      <th>3</th>\n",
       "      <th>4</th>\n",
       "      <th>5</th>\n",
       "      <th>6</th>\n",
       "    </tr>\n",
       "    <tr>\n",
       "      <th>cohort_mo</th>\n",
       "      <th></th>\n",
       "      <th></th>\n",
       "      <th></th>\n",
       "      <th></th>\n",
       "      <th></th>\n",
       "      <th></th>\n",
       "    </tr>\n",
       "  </thead>\n",
       "  <tbody>\n",
       "    <tr>\n",
       "      <th>2023-09-01</th>\n",
       "      <td>100.0</td>\n",
       "      <td>29.4</td>\n",
       "      <td>30.6</td>\n",
       "      <td>20.0</td>\n",
       "      <td>30.6</td>\n",
       "      <td>17.6</td>\n",
       "    </tr>\n",
       "    <tr>\n",
       "      <th>2023-10-01</th>\n",
       "      <td>100.0</td>\n",
       "      <td>19.6</td>\n",
       "      <td>21.0</td>\n",
       "      <td>19.6</td>\n",
       "      <td>21.0</td>\n",
       "      <td>NaN</td>\n",
       "    </tr>\n",
       "    <tr>\n",
       "      <th>2023-11-01</th>\n",
       "      <td>100.0</td>\n",
       "      <td>14.0</td>\n",
       "      <td>14.0</td>\n",
       "      <td>20.1</td>\n",
       "      <td>NaN</td>\n",
       "      <td>NaN</td>\n",
       "    </tr>\n",
       "    <tr>\n",
       "      <th>2023-12-01</th>\n",
       "      <td>100.0</td>\n",
       "      <td>8.6</td>\n",
       "      <td>13.6</td>\n",
       "      <td>NaN</td>\n",
       "      <td>NaN</td>\n",
       "      <td>NaN</td>\n",
       "    </tr>\n",
       "    <tr>\n",
       "      <th>2024-01-01</th>\n",
       "      <td>100.0</td>\n",
       "      <td>15.3</td>\n",
       "      <td>NaN</td>\n",
       "      <td>NaN</td>\n",
       "      <td>NaN</td>\n",
       "      <td>NaN</td>\n",
       "    </tr>\n",
       "    <tr>\n",
       "      <th>2024-02-01</th>\n",
       "      <td>100.0</td>\n",
       "      <td>NaN</td>\n",
       "      <td>NaN</td>\n",
       "      <td>NaN</td>\n",
       "      <td>NaN</td>\n",
       "      <td>NaN</td>\n",
       "    </tr>\n",
       "  </tbody>\n",
       "</table>\n",
       "</div>"
      ],
      "text/plain": [
       "month_idx       1     2     3     4     5     6\n",
       "cohort_mo                                      \n",
       "2023-09-01  100.0  29.4  30.6  20.0  30.6  17.6\n",
       "2023-10-01  100.0  19.6  21.0  19.6  21.0   NaN\n",
       "2023-11-01  100.0  14.0  14.0  20.1   NaN   NaN\n",
       "2023-12-01  100.0   8.6  13.6   NaN   NaN   NaN\n",
       "2024-01-01  100.0  15.3   NaN   NaN   NaN   NaN\n",
       "2024-02-01  100.0   NaN   NaN   NaN   NaN   NaN"
      ]
     },
     "execution_count": 16,
     "metadata": {},
     "output_type": "execute_result"
    }
   ],
   "source": [
    "# This shows us the percent of customers that shopped in subsequent months\n",
    "retention.round(3) * 100"
   ]
  },
  {
   "cell_type": "code",
   "execution_count": 17,
   "id": "32249bbf-244b-44f1-a481-da7425adf9ea",
   "metadata": {},
   "outputs": [
    {
     "data": {
      "image/png": "[encoded data removed]",
      "text/plain": [
       "<Figure size 500x400 with 2 Axes>"
      ]
     },
     "metadata": {},
     "output_type": "display_data"
    }
   ],
   "source": [
    "# Visualize that matrix\n",
    "plt.figure(figsize=(5, 4))\n",
    "plt.title('Retention Rates')\n",
    "sns.heatmap(data=retention,\n",
    "            annot=True,\n",
    "            fmt='.0%',\n",
    "            vmin=0.0,\n",
    "            vmax=0.5,\n",
    "            cmap='Blues')\n",
    "plt.show()"
   ]
  },
  {
   "cell_type": "markdown",
   "id": "80c77a4f-0bea-49d7-9f33-ade68235e2f4",
   "metadata": {},
   "source": [
    "### Recency, Frequency, Monetary Value Analysis"
   ]
  },
  {
   "cell_type": "code",
   "execution_count": 18,
   "id": "2fe2e218-9f99-411d-8618-f2fea157b5ca",
   "metadata": {},
   "outputs": [],
   "source": [
    "# Create a DataFrame to analyze spending\n",
    "spending = df[['uid', 'qty', 'price']]"
   ]
  },
  {
   "cell_type": "code",
   "execution_count": 19,
   "id": "c8bb8a13-698e-4cf3-a556-58726df55516",
   "metadata": {},
   "outputs": [],
   "source": [
    "# Create a column for total spending per transaction\n",
    "spending = spending.assign(total = spending.qty * spending.price)"
   ]
  },
  {
   "cell_type": "code",
   "execution_count": 20,
   "id": "5d9a6f5c-98b2-4560-bdb2-87d67f9dccec",
   "metadata": {},
   "outputs": [],
   "source": [
    "# Group the transactions by customer\n",
    "monetary_value_data = spending[['uid', 'total']].groupby('uid').sum().reset_index()"
   ]
  },
  {
   "cell_type": "code",
   "execution_count": 21,
   "id": "13e7e6ce-08e2-4f58-979f-a995a4228907",
   "metadata": {},
   "outputs": [],
   "source": [
    "# Create quartiles\n",
    "monetary_value_data['mv_quartile'] = pd.qcut(monetary_value_data['total'], q=4, labels=range(1,5))"
   ]
  },
  {
   "cell_type": "code",
   "execution_count": 22,
   "id": "139319b7-38e1-4b8f-9e51-70d8676563c6",
   "metadata": {},
   "outputs": [
    {
     "data": {
      "text/html": [
       "<div>\n",
       "<style scoped>\n",
       "    .dataframe tbody tr th:only-of-type {\n",
       "        vertical-align: middle;\n",
       "    }\n",
       "\n",
       "    .dataframe tbody tr th {\n",
       "        vertical-align: top;\n",
       "    }\n",
       "\n",
       "    .dataframe thead th {\n",
       "        text-align: right;\n",
       "    }\n",
       "</style>\n",
       "<table border=\"1\" class=\"dataframe\">\n",
       "  <thead>\n",
       "    <tr style=\"text-align: right;\">\n",
       "      <th></th>\n",
       "      <th>uid</th>\n",
       "      <th>total</th>\n",
       "      <th>mv_quartile</th>\n",
       "    </tr>\n",
       "  </thead>\n",
       "  <tbody>\n",
       "    <tr>\n",
       "      <th>166</th>\n",
       "      <td>17910262</td>\n",
       "      <td>144.45</td>\n",
       "      <td>4</td>\n",
       "    </tr>\n",
       "    <tr>\n",
       "      <th>183</th>\n",
       "      <td>20240530</td>\n",
       "      <td>49.49</td>\n",
       "      <td>4</td>\n",
       "    </tr>\n",
       "    <tr>\n",
       "      <th>362</th>\n",
       "      <td>40187150</td>\n",
       "      <td>3.50</td>\n",
       "      <td>1</td>\n",
       "    </tr>\n",
       "    <tr>\n",
       "      <th>576</th>\n",
       "      <td>66702580</td>\n",
       "      <td>48.50</td>\n",
       "      <td>3</td>\n",
       "    </tr>\n",
       "    <tr>\n",
       "      <th>250</th>\n",
       "      <td>28216605</td>\n",
       "      <td>2.50</td>\n",
       "      <td>1</td>\n",
       "    </tr>\n",
       "  </tbody>\n",
       "</table>\n",
       "</div>"
      ],
      "text/plain": [
       "          uid   total mv_quartile\n",
       "166  17910262  144.45           4\n",
       "183  20240530   49.49           4\n",
       "362  40187150    3.50           1\n",
       "576  66702580   48.50           3\n",
       "250  28216605    2.50           1"
      ]
     },
     "execution_count": 22,
     "metadata": {},
     "output_type": "execute_result"
    }
   ],
   "source": [
    "monetary_value_data.sample(5)"
   ]
  },
  {
   "cell_type": "code",
   "execution_count": 23,
   "id": "6b4f057d-f76a-4291-8fbd-72ed95291154",
   "metadata": {},
   "outputs": [
    {
     "data": {
      "image/png": "[encoded data removed]",
      "text/plain": [
       "<Figure size 640x480 with 1 Axes>"
      ]
     },
     "metadata": {},
     "output_type": "display_data"
    }
   ],
   "source": [
    "# Visualize the distribution of spending\n",
    "plt.hist(monetary_value_data.total, bins=20)\n",
    "plt.title('Monetary Value of Customers')\n",
    "plt.xlabel('Total Spending')\n",
    "plt.ylabel('Number of Customers')\n",
    "plt.show()"
   ]
  },
  {
   "cell_type": "code",
   "execution_count": 24,
   "id": "07a830fe-f64b-4747-bcd1-0fbb1140607a",
   "metadata": {},
   "outputs": [],
   "source": [
    "# This makes a table of customers and date since their most recent purchase\n",
    "recency_data = df[['uid', 'first_date', 'last_date']].drop_duplicates(subset=['uid'])"
   ]
  },
  {
   "cell_type": "code",
   "execution_count": 25,
   "id": "83b3c37c-e5a9-43d1-aecc-6741030955c6",
   "metadata": {},
   "outputs": [],
   "source": [
    "# Calculate the number of days since their first (i.e., tenure) and last purchase\n",
    "recency_data['days_since_last'] = (pd.to_datetime('3/1/2024') - recency_data['last_date']) / np.timedelta64(1, 'D')\n",
    "recency_data['tenure'] = (pd.to_datetime('3/1/2024') - recency_data['first_date']) / np.timedelta64(1, 'D')"
   ]
  },
  {
   "cell_type": "code",
   "execution_count": 26,
   "id": "e2c34473-3115-4bc1-bf16-901d51cf2cae",
   "metadata": {},
   "outputs": [
    {
     "data": {
      "text/html": [
       "<div>\n",
       "<style scoped>\n",
       "    .dataframe tbody tr th:only-of-type {\n",
       "        vertical-align: middle;\n",
       "    }\n",
       "\n",
       "    .dataframe tbody tr th {\n",
       "        vertical-align: top;\n",
       "    }\n",
       "\n",
       "    .dataframe thead th {\n",
       "        text-align: right;\n",
       "    }\n",
       "</style>\n",
       "<table border=\"1\" class=\"dataframe\">\n",
       "  <thead>\n",
       "    <tr style=\"text-align: right;\">\n",
       "      <th></th>\n",
       "      <th>uid</th>\n",
       "      <th>first_date</th>\n",
       "      <th>last_date</th>\n",
       "      <th>days_since_last</th>\n",
       "      <th>tenure</th>\n",
       "    </tr>\n",
       "  </thead>\n",
       "  <tbody>\n",
       "    <tr>\n",
       "      <th>139</th>\n",
       "      <td>3627006</td>\n",
       "      <td>2023-09-26</td>\n",
       "      <td>2024-01-10</td>\n",
       "      <td>51.0</td>\n",
       "      <td>157.0</td>\n",
       "    </tr>\n",
       "    <tr>\n",
       "      <th>3833</th>\n",
       "      <td>99800222</td>\n",
       "      <td>2024-01-12</td>\n",
       "      <td>2024-01-12</td>\n",
       "      <td>49.0</td>\n",
       "      <td>49.0</td>\n",
       "    </tr>\n",
       "    <tr>\n",
       "      <th>882</th>\n",
       "      <td>3951200</td>\n",
       "      <td>2023-10-19</td>\n",
       "      <td>2024-02-01</td>\n",
       "      <td>29.0</td>\n",
       "      <td>134.0</td>\n",
       "    </tr>\n",
       "    <tr>\n",
       "      <th>92</th>\n",
       "      <td>53869371</td>\n",
       "      <td>2023-09-25</td>\n",
       "      <td>2024-01-19</td>\n",
       "      <td>42.0</td>\n",
       "      <td>158.0</td>\n",
       "    </tr>\n",
       "    <tr>\n",
       "      <th>5639</th>\n",
       "      <td>68030599</td>\n",
       "      <td>2024-02-28</td>\n",
       "      <td>2024-02-28</td>\n",
       "      <td>2.0</td>\n",
       "      <td>2.0</td>\n",
       "    </tr>\n",
       "  </tbody>\n",
       "</table>\n",
       "</div>"
      ],
      "text/plain": [
       "           uid first_date  last_date  days_since_last  tenure\n",
       "139    3627006 2023-09-26 2024-01-10             51.0   157.0\n",
       "3833  99800222 2024-01-12 2024-01-12             49.0    49.0\n",
       "882    3951200 2023-10-19 2024-02-01             29.0   134.0\n",
       "92    53869371 2023-09-25 2024-01-19             42.0   158.0\n",
       "5639  68030599 2024-02-28 2024-02-28              2.0     2.0"
      ]
     },
     "execution_count": 26,
     "metadata": {},
     "output_type": "execute_result"
    }
   ],
   "source": [
    "recency_data.sample(5)"
   ]
  },
  {
   "cell_type": "code",
   "execution_count": 27,
   "id": "45db1590-f1e3-4c98-b652-f357721e7b9a",
   "metadata": {},
   "outputs": [],
   "source": [
    "# Create quartiles for recency\n",
    "recency_data['recency_quartile'] = pd.qcut(recency_data['days_since_last'], q=4, labels=list(range(4, 0, -1)))"
   ]
  },
  {
   "cell_type": "code",
   "execution_count": 28,
   "id": "fd5cb791-b169-460a-8a46-3b2e9f9c1313",
   "metadata": {},
   "outputs": [],
   "source": [
    "# Create descriptive customer quartile labels\n",
    "r_labels = ['Regular', 'Occasional', 'Infrequent', 'Inactive']\n",
    "recency_data['recency_label'] = pd.qcut(recency_data['days_since_last'], q=4, labels=r_labels)"
   ]
  },
  {
   "cell_type": "code",
   "execution_count": 29,
   "id": "a78daae0-9005-4c32-9dba-4436ee83ba96",
   "metadata": {},
   "outputs": [
    {
     "data": {
      "text/html": [
       "<div>\n",
       "<style scoped>\n",
       "    .dataframe tbody tr th:only-of-type {\n",
       "        vertical-align: middle;\n",
       "    }\n",
       "\n",
       "    .dataframe tbody tr th {\n",
       "        vertical-align: top;\n",
       "    }\n",
       "\n",
       "    .dataframe thead th {\n",
       "        text-align: right;\n",
       "    }\n",
       "</style>\n",
       "<table border=\"1\" class=\"dataframe\">\n",
       "  <thead>\n",
       "    <tr style=\"text-align: right;\">\n",
       "      <th></th>\n",
       "      <th>uid</th>\n",
       "      <th>first_date</th>\n",
       "      <th>last_date</th>\n",
       "      <th>days_since_last</th>\n",
       "      <th>tenure</th>\n",
       "      <th>recency_quartile</th>\n",
       "      <th>recency_label</th>\n",
       "    </tr>\n",
       "  </thead>\n",
       "  <tbody>\n",
       "    <tr>\n",
       "      <th>1381</th>\n",
       "      <td>11400998</td>\n",
       "      <td>2023-11-03</td>\n",
       "      <td>2023-11-03</td>\n",
       "      <td>119.0</td>\n",
       "      <td>119.0</td>\n",
       "      <td>1</td>\n",
       "      <td>Inactive</td>\n",
       "    </tr>\n",
       "    <tr>\n",
       "      <th>4543</th>\n",
       "      <td>4854678</td>\n",
       "      <td>2024-02-02</td>\n",
       "      <td>2024-02-02</td>\n",
       "      <td>28.0</td>\n",
       "      <td>28.0</td>\n",
       "      <td>3</td>\n",
       "      <td>Occasional</td>\n",
       "    </tr>\n",
       "    <tr>\n",
       "      <th>4222</th>\n",
       "      <td>36056873</td>\n",
       "      <td>2024-01-26</td>\n",
       "      <td>2024-01-26</td>\n",
       "      <td>35.0</td>\n",
       "      <td>35.0</td>\n",
       "      <td>3</td>\n",
       "      <td>Occasional</td>\n",
       "    </tr>\n",
       "    <tr>\n",
       "      <th>1460</th>\n",
       "      <td>11324355</td>\n",
       "      <td>2023-11-07</td>\n",
       "      <td>2023-11-07</td>\n",
       "      <td>115.0</td>\n",
       "      <td>115.0</td>\n",
       "      <td>1</td>\n",
       "      <td>Inactive</td>\n",
       "    </tr>\n",
       "    <tr>\n",
       "      <th>4188</th>\n",
       "      <td>78888128</td>\n",
       "      <td>2024-01-25</td>\n",
       "      <td>2024-01-25</td>\n",
       "      <td>36.0</td>\n",
       "      <td>36.0</td>\n",
       "      <td>3</td>\n",
       "      <td>Occasional</td>\n",
       "    </tr>\n",
       "  </tbody>\n",
       "</table>\n",
       "</div>"
      ],
      "text/plain": [
       "           uid first_date  last_date  days_since_last  tenure  \\\n",
       "1381  11400998 2023-11-03 2023-11-03            119.0   119.0   \n",
       "4543   4854678 2024-02-02 2024-02-02             28.0    28.0   \n",
       "4222  36056873 2024-01-26 2024-01-26             35.0    35.0   \n",
       "1460  11324355 2023-11-07 2023-11-07            115.0   115.0   \n",
       "4188  78888128 2024-01-25 2024-01-25             36.0    36.0   \n",
       "\n",
       "     recency_quartile recency_label  \n",
       "1381                1      Inactive  \n",
       "4543                3    Occasional  \n",
       "4222                3    Occasional  \n",
       "1460                1      Inactive  \n",
       "4188                3    Occasional  "
      ]
     },
     "execution_count": 29,
     "metadata": {},
     "output_type": "execute_result"
    }
   ],
   "source": [
    "recency_data.sample(5)"
   ]
  },
  {
   "cell_type": "code",
   "execution_count": 30,
   "id": "0580003a-4418-4ed9-b7d7-6894eaa84367",
   "metadata": {},
   "outputs": [
    {
     "data": {
      "image/png": "[encoded data removed]",
      "text/plain": [
       "<Figure size 640x480 with 1 Axes>"
      ]
     },
     "metadata": {},
     "output_type": "display_data"
    }
   ],
   "source": [
    "plt.hist(recency_data.days_since_last, bins=20)\n",
    "plt.title('Days Since Last Purchase')\n",
    "plt.xlabel('Days')\n",
    "plt.ylabel('Number of Customers')\n",
    "plt.show()"
   ]
  },
  {
   "cell_type": "code",
   "execution_count": 31,
   "id": "1fdc028d-b822-4cee-b818-c58c46e81b7a",
   "metadata": {},
   "outputs": [],
   "source": [
    "# Create a column for number of transactions\n",
    "frequency_data = df[['uid', 'order_no']].drop_duplicates(subset='order_no').groupby('uid').count().reset_index()"
   ]
  },
  {
   "cell_type": "code",
   "execution_count": 32,
   "id": "d5f86c30-983e-466b-9c85-ed02c7e011e1",
   "metadata": {},
   "outputs": [
    {
     "data": {
      "image/png": "[encoded data removed]",
      "text/plain": [
       "<Figure size 640x480 with 1 Axes>"
      ]
     },
     "metadata": {},
     "output_type": "display_data"
    }
   ],
   "source": [
    "plt.boxplot(frequency_data.order_no)\n",
    "plt.title('Total Lifetime Purchases')\n",
    "plt.ylabel('Purchases')\n",
    "plt.show()"
   ]
  },
  {
   "cell_type": "markdown",
   "id": "8f3096fe-f767-40c0-a6cc-7019c6aae54b",
   "metadata": {},
   "source": [
    "Because there are more than half the customers who have a single purchase, we can't do quartiles. It would cause the first and second quartile to overlap at 1. Instead, we'll do bins with ranges we eyeball. "
   ]
  },
  {
   "cell_type": "code",
   "execution_count": 33,
   "id": "b3d424fd-53db-49cf-8f1b-9a25a923b809",
   "metadata": {},
   "outputs": [],
   "source": [
    "# Create bins with breaks at 1, 3, 10, and the max\n",
    "frequency_data['frequency_quartile'] = pd.cut(frequency_data.order_no, bins=[0,1,3,10,50], labels=range(1, 5))"
   ]
  },
  {
   "cell_type": "code",
   "execution_count": 34,
   "id": "1734d810-4004-487b-a0c3-5771a9957994",
   "metadata": {},
   "outputs": [
    {
     "data": {
      "text/plain": [
       "frequency_quartile\n",
       "1    595\n",
       "2    209\n",
       "3     81\n",
       "4      4\n",
       "Name: count, dtype: int64"
      ]
     },
     "execution_count": 34,
     "metadata": {},
     "output_type": "execute_result"
    }
   ],
   "source": [
    "frequency_data.frequency_quartile.value_counts()"
   ]
  },
  {
   "cell_type": "markdown",
   "id": "3217f93f-2ca5-4304-bed4-b6e78fc1bbc1",
   "metadata": {},
   "source": [
    "We see that nearly 90% of the customers have three or less transactions across the 5 months of data. "
   ]
  },
  {
   "cell_type": "code",
   "execution_count": 35,
   "id": "362fbaf4-0089-46cb-b5c3-53ceeefab4d2",
   "metadata": {},
   "outputs": [],
   "source": [
    "# Combine recency, freqency, and monetary value for summary statistics\n",
    "rf_data = pd.merge(recency_data[['uid', 'days_since_last', 'recency_quartile']], \n",
    "                   frequency_data[['uid', 'order_no', 'frequency_quartile']], on='uid')\n",
    "rfm_data = pd.merge(rf_data, monetary_value_data[['uid', 'total', 'mv_quartile']], on='uid')"
   ]
  },
  {
   "cell_type": "code",
   "execution_count": 36,
   "id": "30ab5bc0-6680-4048-ad80-8042c02c3cfb",
   "metadata": {},
   "outputs": [],
   "source": [
    "rfm_data = rfm_data.rename(columns={'recency_quartile': 'R',\n",
    "                                    'order_no': 'transactions',\n",
    "                                    'frequency_quartile': 'F',\n",
    "                                    'total': 'total_spending',\n",
    "                                    'mv_quartile': 'M'})"
   ]
  },
  {
   "cell_type": "code",
   "execution_count": 37,
   "id": "ec6534e2-ae3c-4c80-87dd-84713e5a1ff1",
   "metadata": {},
   "outputs": [
    {
     "data": {
      "text/html": [
       "<div>\n",
       "<style scoped>\n",
       "    .dataframe tbody tr th:only-of-type {\n",
       "        vertical-align: middle;\n",
       "    }\n",
       "\n",
       "    .dataframe tbody tr th {\n",
       "        vertical-align: top;\n",
       "    }\n",
       "\n",
       "    .dataframe thead th {\n",
       "        text-align: right;\n",
       "    }\n",
       "</style>\n",
       "<table border=\"1\" class=\"dataframe\">\n",
       "  <thead>\n",
       "    <tr style=\"text-align: right;\">\n",
       "      <th></th>\n",
       "      <th>uid</th>\n",
       "      <th>days_since_last</th>\n",
       "      <th>R</th>\n",
       "      <th>transactions</th>\n",
       "      <th>F</th>\n",
       "      <th>total_spending</th>\n",
       "      <th>M</th>\n",
       "    </tr>\n",
       "  </thead>\n",
       "  <tbody>\n",
       "    <tr>\n",
       "      <th>578</th>\n",
       "      <td>49179897</td>\n",
       "      <td>71.0</td>\n",
       "      <td>2</td>\n",
       "      <td>1</td>\n",
       "      <td>1</td>\n",
       "      <td>9.99</td>\n",
       "      <td>1</td>\n",
       "    </tr>\n",
       "    <tr>\n",
       "      <th>805</th>\n",
       "      <td>64852577</td>\n",
       "      <td>16.0</td>\n",
       "      <td>4</td>\n",
       "      <td>1</td>\n",
       "      <td>1</td>\n",
       "      <td>22.99</td>\n",
       "      <td>2</td>\n",
       "    </tr>\n",
       "    <tr>\n",
       "      <th>808</th>\n",
       "      <td>68449209</td>\n",
       "      <td>14.0</td>\n",
       "      <td>4</td>\n",
       "      <td>1</td>\n",
       "      <td>1</td>\n",
       "      <td>14.49</td>\n",
       "      <td>2</td>\n",
       "    </tr>\n",
       "    <tr>\n",
       "      <th>730</th>\n",
       "      <td>56732405</td>\n",
       "      <td>31.0</td>\n",
       "      <td>3</td>\n",
       "      <td>1</td>\n",
       "      <td>1</td>\n",
       "      <td>11.00</td>\n",
       "      <td>1</td>\n",
       "    </tr>\n",
       "    <tr>\n",
       "      <th>694</th>\n",
       "      <td>82314156</td>\n",
       "      <td>30.0</td>\n",
       "      <td>3</td>\n",
       "      <td>2</td>\n",
       "      <td>2</td>\n",
       "      <td>108.98</td>\n",
       "      <td>4</td>\n",
       "    </tr>\n",
       "  </tbody>\n",
       "</table>\n",
       "</div>"
      ],
      "text/plain": [
       "          uid  days_since_last  R  transactions  F  total_spending  M\n",
       "578  49179897             71.0  2             1  1            9.99  1\n",
       "805  64852577             16.0  4             1  1           22.99  2\n",
       "808  68449209             14.0  4             1  1           14.49  2\n",
       "730  56732405             31.0  3             1  1           11.00  1\n",
       "694  82314156             30.0  3             2  2          108.98  4"
      ]
     },
     "execution_count": 37,
     "metadata": {},
     "output_type": "execute_result"
    }
   ],
   "source": [
    "rfm_data.sample(5)"
   ]
  },
  {
   "cell_type": "code",
   "execution_count": 38,
   "id": "0039f449-bb91-4b7f-9656-f5e207550cb2",
   "metadata": {},
   "outputs": [],
   "source": [
    "# Write a function to concatinate the values of RFM as a string for segmentation\n",
    "def join_rfm(x): return str(int(x.R)) + str(int(x.F)) + str(int(x.M))"
   ]
  },
  {
   "cell_type": "code",
   "execution_count": 39,
   "id": "8882b4fc-46d4-4b9f-bdc4-f4880b5c6166",
   "metadata": {},
   "outputs": [],
   "source": [
    "# Create segments and scores\n",
    "rfm_data['RFM_segment'] = rfm_data.apply(join_rfm, axis=1)\n",
    "rfm_data['RFM_score'] = rfm_data[['R', 'F', 'M']].sum(axis=1)"
   ]
  },
  {
   "cell_type": "code",
   "execution_count": 40,
   "id": "19c0cb88-33d8-4b81-bea6-e9d31ce25df6",
   "metadata": {},
   "outputs": [
    {
     "data": {
      "text/html": [
       "<div>\n",
       "<style scoped>\n",
       "    .dataframe tbody tr th:only-of-type {\n",
       "        vertical-align: middle;\n",
       "    }\n",
       "\n",
       "    .dataframe tbody tr th {\n",
       "        vertical-align: top;\n",
       "    }\n",
       "\n",
       "    .dataframe thead th {\n",
       "        text-align: right;\n",
       "    }\n",
       "</style>\n",
       "<table border=\"1\" class=\"dataframe\">\n",
       "  <thead>\n",
       "    <tr style=\"text-align: right;\">\n",
       "      <th></th>\n",
       "      <th>uid</th>\n",
       "      <th>days_since_last</th>\n",
       "      <th>R</th>\n",
       "      <th>transactions</th>\n",
       "      <th>F</th>\n",
       "      <th>total_spending</th>\n",
       "      <th>M</th>\n",
       "      <th>RFM_segment</th>\n",
       "      <th>RFM_score</th>\n",
       "    </tr>\n",
       "  </thead>\n",
       "  <tbody>\n",
       "    <tr>\n",
       "      <th>556</th>\n",
       "      <td>25997644</td>\n",
       "      <td>62.0</td>\n",
       "      <td>2</td>\n",
       "      <td>2</td>\n",
       "      <td>2</td>\n",
       "      <td>104.21</td>\n",
       "      <td>4</td>\n",
       "      <td>224</td>\n",
       "      <td>8</td>\n",
       "    </tr>\n",
       "    <tr>\n",
       "      <th>233</th>\n",
       "      <td>71577296</td>\n",
       "      <td>132.0</td>\n",
       "      <td>1</td>\n",
       "      <td>1</td>\n",
       "      <td>1</td>\n",
       "      <td>26.50</td>\n",
       "      <td>3</td>\n",
       "      <td>113</td>\n",
       "      <td>5</td>\n",
       "    </tr>\n",
       "    <tr>\n",
       "      <th>265</th>\n",
       "      <td>59522683</td>\n",
       "      <td>128.0</td>\n",
       "      <td>1</td>\n",
       "      <td>1</td>\n",
       "      <td>1</td>\n",
       "      <td>3.00</td>\n",
       "      <td>1</td>\n",
       "      <td>111</td>\n",
       "      <td>3</td>\n",
       "    </tr>\n",
       "    <tr>\n",
       "      <th>522</th>\n",
       "      <td>57556178</td>\n",
       "      <td>80.0</td>\n",
       "      <td>2</td>\n",
       "      <td>1</td>\n",
       "      <td>1</td>\n",
       "      <td>107.00</td>\n",
       "      <td>4</td>\n",
       "      <td>214</td>\n",
       "      <td>7</td>\n",
       "    </tr>\n",
       "    <tr>\n",
       "      <th>457</th>\n",
       "      <td>38970566</td>\n",
       "      <td>41.0</td>\n",
       "      <td>3</td>\n",
       "      <td>4</td>\n",
       "      <td>3</td>\n",
       "      <td>86.99</td>\n",
       "      <td>4</td>\n",
       "      <td>334</td>\n",
       "      <td>10</td>\n",
       "    </tr>\n",
       "  </tbody>\n",
       "</table>\n",
       "</div>"
      ],
      "text/plain": [
       "          uid  days_since_last  R  transactions  F  total_spending  M  \\\n",
       "556  25997644             62.0  2             2  2          104.21  4   \n",
       "233  71577296            132.0  1             1  1           26.50  3   \n",
       "265  59522683            128.0  1             1  1            3.00  1   \n",
       "522  57556178             80.0  2             1  1          107.00  4   \n",
       "457  38970566             41.0  3             4  3           86.99  4   \n",
       "\n",
       "    RFM_segment  RFM_score  \n",
       "556         224          8  \n",
       "233         113          5  \n",
       "265         111          3  \n",
       "522         214          7  \n",
       "457         334         10  "
      ]
     },
     "execution_count": 40,
     "metadata": {},
     "output_type": "execute_result"
    }
   ],
   "source": [
    "rfm_data.sample(5)"
   ]
  },
  {
   "cell_type": "markdown",
   "id": "03300e68-bee9-4670-82fd-c9d8e7fc9970",
   "metadata": {},
   "source": [
    "##### Analyze Segments"
   ]
  },
  {
   "cell_type": "code",
   "execution_count": 41,
   "id": "c69291f2-3352-479c-a7e7-6441739f35c5",
   "metadata": {},
   "outputs": [
    {
     "data": {
      "text/plain": [
       "RFM_segment\n",
       "111    83\n",
       "112    63\n",
       "211    60\n",
       "212    49\n",
       "213    43\n",
       "311    43\n",
       "312    40\n",
       "434    38\n",
       "411    35\n",
       "424    35\n",
       "dtype: int64"
      ]
     },
     "execution_count": 41,
     "metadata": {},
     "output_type": "execute_result"
    }
   ],
   "source": [
    "# View the top 10 most common segments\n",
    "rfm_data.groupby('RFM_segment').size().sort_values(ascending=False)[:10]"
   ]
  },
  {
   "cell_type": "code",
   "execution_count": 42,
   "id": "c72d3c71-f573-4d83-878b-b19d1d69ec60",
   "metadata": {},
   "outputs": [
    {
     "data": {
      "text/html": [
       "<div>\n",
       "<style scoped>\n",
       "    .dataframe tbody tr th:only-of-type {\n",
       "        vertical-align: middle;\n",
       "    }\n",
       "\n",
       "    .dataframe tbody tr th {\n",
       "        vertical-align: top;\n",
       "    }\n",
       "\n",
       "    .dataframe thead tr th {\n",
       "        text-align: left;\n",
       "    }\n",
       "\n",
       "    .dataframe thead tr:last-of-type th {\n",
       "        text-align: right;\n",
       "    }\n",
       "</style>\n",
       "<table border=\"1\" class=\"dataframe\">\n",
       "  <thead>\n",
       "    <tr>\n",
       "      <th></th>\n",
       "      <th>days_since_last</th>\n",
       "      <th>transactions</th>\n",
       "      <th colspan=\"2\" halign=\"left\">total_spending</th>\n",
       "    </tr>\n",
       "    <tr>\n",
       "      <th></th>\n",
       "      <th>mean</th>\n",
       "      <th>mean</th>\n",
       "      <th>mean</th>\n",
       "      <th>count</th>\n",
       "    </tr>\n",
       "    <tr>\n",
       "      <th>RFM_score</th>\n",
       "      <th></th>\n",
       "      <th></th>\n",
       "      <th></th>\n",
       "      <th></th>\n",
       "    </tr>\n",
       "  </thead>\n",
       "  <tbody>\n",
       "    <tr>\n",
       "      <th>3</th>\n",
       "      <td>136.0</td>\n",
       "      <td>1.0</td>\n",
       "      <td>7.7</td>\n",
       "      <td>83</td>\n",
       "    </tr>\n",
       "    <tr>\n",
       "      <th>4</th>\n",
       "      <td>111.7</td>\n",
       "      <td>1.0</td>\n",
       "      <td>12.8</td>\n",
       "      <td>123</td>\n",
       "    </tr>\n",
       "    <tr>\n",
       "      <th>5</th>\n",
       "      <td>85.4</td>\n",
       "      <td>1.1</td>\n",
       "      <td>18.4</td>\n",
       "      <td>139</td>\n",
       "    </tr>\n",
       "    <tr>\n",
       "      <th>6</th>\n",
       "      <td>59.2</td>\n",
       "      <td>1.1</td>\n",
       "      <td>27.0</td>\n",
       "      <td>144</td>\n",
       "    </tr>\n",
       "    <tr>\n",
       "      <th>7</th>\n",
       "      <td>52.0</td>\n",
       "      <td>1.4</td>\n",
       "      <td>34.8</td>\n",
       "      <td>120</td>\n",
       "    </tr>\n",
       "    <tr>\n",
       "      <th>8</th>\n",
       "      <td>34.3</td>\n",
       "      <td>1.9</td>\n",
       "      <td>46.3</td>\n",
       "      <td>94</td>\n",
       "    </tr>\n",
       "    <tr>\n",
       "      <th>9</th>\n",
       "      <td>25.8</td>\n",
       "      <td>2.3</td>\n",
       "      <td>68.9</td>\n",
       "      <td>79</td>\n",
       "    </tr>\n",
       "    <tr>\n",
       "      <th>10</th>\n",
       "      <td>22.5</td>\n",
       "      <td>4.1</td>\n",
       "      <td>100.0</td>\n",
       "      <td>66</td>\n",
       "    </tr>\n",
       "    <tr>\n",
       "      <th>11</th>\n",
       "      <td>9.2</td>\n",
       "      <td>5.9</td>\n",
       "      <td>164.1</td>\n",
       "      <td>38</td>\n",
       "    </tr>\n",
       "    <tr>\n",
       "      <th>12</th>\n",
       "      <td>3.7</td>\n",
       "      <td>13.0</td>\n",
       "      <td>245.7</td>\n",
       "      <td>3</td>\n",
       "    </tr>\n",
       "  </tbody>\n",
       "</table>\n",
       "</div>"
      ],
      "text/plain": [
       "          days_since_last transactions total_spending      \n",
       "                     mean         mean           mean count\n",
       "RFM_score                                                  \n",
       "3                   136.0          1.0            7.7    83\n",
       "4                   111.7          1.0           12.8   123\n",
       "5                    85.4          1.1           18.4   139\n",
       "6                    59.2          1.1           27.0   144\n",
       "7                    52.0          1.4           34.8   120\n",
       "8                    34.3          1.9           46.3    94\n",
       "9                    25.8          2.3           68.9    79\n",
       "10                   22.5          4.1          100.0    66\n",
       "11                    9.2          5.9          164.1    38\n",
       "12                    3.7         13.0          245.7     3"
      ]
     },
     "execution_count": 42,
     "metadata": {},
     "output_type": "execute_result"
    }
   ],
   "source": [
    "# Group the scores\n",
    "rfm_data.groupby('RFM_score').agg({\n",
    "    'days_since_last': 'mean',\n",
    "    'transactions': 'mean',\n",
    "    'total_spending': ['mean', 'count']}).round(1)"
   ]
  },
  {
   "cell_type": "code",
   "execution_count": 43,
   "id": "06fff9de-ac49-4668-8ceb-e8eef6ef40ea",
   "metadata": {},
   "outputs": [],
   "source": [
    "# Function to segment into gold, silver, or bronze\n",
    "def segment_me(df):\n",
    "    if df['RFM_score'] >= 9:\n",
    "        return 'Gold'\n",
    "    elif df['RFM_score'] >= 5:\n",
    "        return 'Silver'\n",
    "    else: \n",
    "        return 'Bronze'"
   ]
  },
  {
   "cell_type": "code",
   "execution_count": 44,
   "id": "1f9e116e-313a-428c-87b1-d4c420c4b66f",
   "metadata": {},
   "outputs": [
    {
     "data": {
      "text/html": [
       "<div>\n",
       "<style scoped>\n",
       "    .dataframe tbody tr th:only-of-type {\n",
       "        vertical-align: middle;\n",
       "    }\n",
       "\n",
       "    .dataframe tbody tr th {\n",
       "        vertical-align: top;\n",
       "    }\n",
       "\n",
       "    .dataframe thead tr th {\n",
       "        text-align: left;\n",
       "    }\n",
       "\n",
       "    .dataframe thead tr:last-of-type th {\n",
       "        text-align: right;\n",
       "    }\n",
       "</style>\n",
       "<table border=\"1\" class=\"dataframe\">\n",
       "  <thead>\n",
       "    <tr>\n",
       "      <th></th>\n",
       "      <th>days_since_last</th>\n",
       "      <th>transactions</th>\n",
       "      <th colspan=\"2\" halign=\"left\">total_spending</th>\n",
       "    </tr>\n",
       "    <tr>\n",
       "      <th></th>\n",
       "      <th>mean</th>\n",
       "      <th>mean</th>\n",
       "      <th>mean</th>\n",
       "      <th>count</th>\n",
       "    </tr>\n",
       "    <tr>\n",
       "      <th>general_segment</th>\n",
       "      <th></th>\n",
       "      <th></th>\n",
       "      <th></th>\n",
       "      <th></th>\n",
       "    </tr>\n",
       "  </thead>\n",
       "  <tbody>\n",
       "    <tr>\n",
       "      <th>Bronze</th>\n",
       "      <td>121.5</td>\n",
       "      <td>1.0</td>\n",
       "      <td>10.8</td>\n",
       "      <td>206</td>\n",
       "    </tr>\n",
       "    <tr>\n",
       "      <th>Gold</th>\n",
       "      <td>20.8</td>\n",
       "      <td>3.9</td>\n",
       "      <td>102.3</td>\n",
       "      <td>186</td>\n",
       "    </tr>\n",
       "    <tr>\n",
       "      <th>Silver</th>\n",
       "      <td>60.1</td>\n",
       "      <td>1.3</td>\n",
       "      <td>30.1</td>\n",
       "      <td>497</td>\n",
       "    </tr>\n",
       "  </tbody>\n",
       "</table>\n",
       "</div>"
      ],
      "text/plain": [
       "                days_since_last transactions total_spending      \n",
       "                           mean         mean           mean count\n",
       "general_segment                                                  \n",
       "Bronze                    121.5          1.0           10.8   206\n",
       "Gold                       20.8          3.9          102.3   186\n",
       "Silver                     60.1          1.3           30.1   497"
      ]
     },
     "execution_count": 44,
     "metadata": {},
     "output_type": "execute_result"
    }
   ],
   "source": [
    "# Apply the labels\n",
    "rfm_data['general_segment'] = rfm_data.apply(segment_me, axis=1)\n",
    "# Show the table\n",
    "rfm_data.groupby('general_segment').agg({\n",
    "    'days_since_last': 'mean',\n",
    "    'transactions': 'mean',\n",
    "    'total_spending': ['mean', 'count']}).round(1)"
   ]
  },
  {
   "cell_type": "markdown",
   "id": "5c047e93-4f30-4e59-ad43-4dc02e726d75",
   "metadata": {},
   "source": [
    "##### Postprocess for clustering"
   ]
  },
  {
   "cell_type": "code",
   "execution_count": 45,
   "id": "95fc4372-22aa-4dec-b03b-72a088df6cc5",
   "metadata": {},
   "outputs": [
    {
     "name": "stdout",
     "output_type": "stream",
     "text": [
      "<class 'pandas.core.frame.DataFrame'>\n",
      "RangeIndex: 889 entries, 0 to 888\n",
      "Data columns (total 10 columns):\n",
      " #   Column           Non-Null Count  Dtype   \n",
      "---  ------           --------------  -----   \n",
      " 0   uid              889 non-null    int64   \n",
      " 1   days_since_last  889 non-null    float64 \n",
      " 2   R                889 non-null    category\n",
      " 3   transactions     889 non-null    int64   \n",
      " 4   F                889 non-null    category\n",
      " 5   total_spending   889 non-null    float64 \n",
      " 6   M                889 non-null    category\n",
      " 7   RFM_segment      889 non-null    object  \n",
      " 8   RFM_score        889 non-null    int64   \n",
      " 9   general_segment  889 non-null    object  \n",
      "dtypes: category(3), float64(2), int64(3), object(2)\n",
      "memory usage: 51.8+ KB\n"
     ]
    }
   ],
   "source": [
    "rfm_data.info()"
   ]
  },
  {
   "cell_type": "code",
   "execution_count": 46,
   "id": "ad3356e0-bb06-4ce4-877a-2228b69b8cdc",
   "metadata": {},
   "outputs": [],
   "source": [
    "# Save out the segments for later deanonymizing\n",
    "rfm_data[['uid', 'general_segment']].to_csv('lauries_general_segments.csv', index=False)"
   ]
  },
  {
   "cell_type": "code",
   "execution_count": 47,
   "id": "1206441c-8346-415a-8b1a-099645a22494",
   "metadata": {},
   "outputs": [],
   "source": [
    "# Create a Tenure DataFrame\n",
    "tenure_data = recency_data[['uid', 'tenure']].drop_duplicates(subset='uid')"
   ]
  },
  {
   "cell_type": "code",
   "execution_count": 48,
   "id": "d333f761-0431-4087-b813-823a1cf508c3",
   "metadata": {},
   "outputs": [],
   "source": [
    "# Collect relevant columns, add in tenure\n",
    "cluster_data = pd.merge(rfm_data[['uid', 'days_since_last', 'transactions', 'total_spending']], \n",
    "                        tenure_data[['uid', 'tenure']], on='uid')"
   ]
  },
  {
   "cell_type": "code",
   "execution_count": 49,
   "id": "67886b25-4e54-43ef-ad1a-5c290f5f5c2a",
   "metadata": {},
   "outputs": [
    {
     "name": "stdout",
     "output_type": "stream",
     "text": [
      "<class 'pandas.core.frame.DataFrame'>\n",
      "RangeIndex: 889 entries, 0 to 888\n",
      "Data columns (total 5 columns):\n",
      " #   Column           Non-Null Count  Dtype  \n",
      "---  ------           --------------  -----  \n",
      " 0   uid              889 non-null    int64  \n",
      " 1   days_since_last  889 non-null    float64\n",
      " 2   transactions     889 non-null    int64  \n",
      " 3   total_spending   889 non-null    float64\n",
      " 4   tenure           889 non-null    float64\n",
      "dtypes: float64(3), int64(2)\n",
      "memory usage: 34.9 KB\n"
     ]
    }
   ],
   "source": [
    "cluster_data.info()"
   ]
  },
  {
   "cell_type": "code",
   "execution_count": 50,
   "id": "355315a0-4514-48e2-a21f-1af802b770b4",
   "metadata": {},
   "outputs": [],
   "source": [
    "cluster_data.to_csv('customers_for_clustering.csv', index=False)"
   ]
  },
  {
   "cell_type": "code",
   "execution_count": null,
   "id": "a122aed2-27ed-4565-a642-5c7886ce3cde",
   "metadata": {},
   "outputs": [],
   "source": []
  }
 ],
 "metadata": {
  "kernelspec": {
   "display_name": "Python 3 (ipykernel)",
   "language": "python",
   "name": "python3"
  },
  "language_info": {
   "codemirror_mode": {
    "name": "ipython",
    "version": 3
   },
   "file_extension": ".py",
   "mimetype": "text/x-python",
   "name": "python",
   "nbconvert_exporter": "python",
   "pygments_lexer": "ipython3",
   "version": "3.12.2"
  }
 },
 "nbformat": 4,
 "nbformat_minor": 5
}
